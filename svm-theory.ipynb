{
 "cells": [
  {
   "cell_type": "markdown",
   "id": "11c0701d-8244-43e3-88a2-02748ac059d3",
   "metadata": {},
   "source": [
    "<h1>Introduction to Support Vector Machines</h1>\n",
    "<p>\n",
    "    Support vector machines (SVM's) are supervised learning models with associated learning algorithms that analyze data and recognize patterns, used for classification and regression analysis.\n",
    "    <br>Given a set of training examples, each marked for belonging to one of two categories, as SVM training algorithm builds a model that assigns new examples into one category or the other, making it a non-probabilistic binary linear classifier.\n",
    "    <br>An SVM model is a representation of the examples as points in space, mapped so that the examples of the separate categories are divided by a clear gap that is as wide as possible.\n",
    "    <br>New examples are then mapped into that same space and predicted to belong to a category based on which side of the gap they fall on.\n",
    "</p>\n",
    "<p>\n",
    "    Let's show the basic intuition behind SVM's. Imagine the labeled training data. We would like to chose a hyperplane that maximizes the margin between classes\n",
    "    <br>The vector point that the margin lines touch are known as Support Vectors.\n",
    "    <br>We can expand this idea to non-linearly separable data through the \"kernel trick\".\n",
    "</p>\n",
    "<p>\n",
    "    We'll start our example by using Support Vector Machines to predict whether a tumor is malignant or benign.\n",
    "    <br>Then your portfolio project will apply these same concepts to the famous iris flower data set.\n",
    "    <br>Then we'll learn how to tune our models with a GridSearch.\n",
    "</p>"
   ]
  },
  {
   "cell_type": "code",
   "execution_count": null,
   "id": "f534727e-6ac8-4fab-910a-f7a6c6496761",
   "metadata": {},
   "outputs": [],
   "source": []
  }
 ],
 "metadata": {
  "kernelspec": {
   "display_name": "Python 3 (ipykernel)",
   "language": "python",
   "name": "python3"
  },
  "language_info": {
   "codemirror_mode": {
    "name": "ipython",
    "version": 3
   },
   "file_extension": ".py",
   "mimetype": "text/x-python",
   "name": "python",
   "nbconvert_exporter": "python",
   "pygments_lexer": "ipython3",
   "version": "3.11.7"
  }
 },
 "nbformat": 4,
 "nbformat_minor": 5
}
